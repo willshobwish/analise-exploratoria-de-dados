{
 "cells": [
  {
   "cell_type": "code",
   "execution_count": 24,
   "metadata": {},
   "outputs": [],
   "source": [
    "import pandas as pd\n",
    "import matplotlib.pyplot as plt\n",
    "import math\n",
    "import numpy as np"
   ]
  },
  {
   "cell_type": "code",
   "execution_count": 25,
   "metadata": {},
   "outputs": [],
   "source": [
    "df = pd.read_csv(r'c. 2025--Lista2-dados.veneno.26_csv.csv')\n",
    "numero_email = 48"
   ]
  },
  {
   "cell_type": "code",
   "execution_count": 26,
   "metadata": {},
   "outputs": [],
   "source": [
    "df_sample = df.sample(n=6,random_state=numero_email)"
   ]
  },
  {
   "cell_type": "code",
   "execution_count": 27,
   "metadata": {},
   "outputs": [
    {
     "name": "stdout",
     "output_type": "stream",
     "text": [
      "    Pac_No  Idade  Diag  Recup Tratam Coag\n",
      "22      23     75    30     22    III  sim\n",
      "11      20     24     3      1     II  nao\n",
      "3        7     15    53     46      I  sim\n",
      "1        4     15    52     45      I  nao\n",
      "15      18     31     9      3     II  sim\n",
      "10      16     40    20     11    III  sim\n"
     ]
    }
   ],
   "source": [
    "print(df_sample)"
   ]
  },
  {
   "cell_type": "code",
   "execution_count": 28,
   "metadata": {},
   "outputs": [],
   "source": [
    "df_sample.to_csv(\"veneno123.csv\",index=False)"
   ]
  },
  {
   "cell_type": "code",
   "execution_count": 33,
   "metadata": {},
   "outputs": [
    {
     "name": "stdout",
     "output_type": "stream",
     "text": [
      "Number of classes (k): 4\n",
      "    Interval  Frequency\n",
      " [3.0, 15.5)          2\n",
      "[15.5, 28.0)          1\n",
      "[28.0, 40.5)          1\n",
      "[40.5, 53.0)          1\n"
     ]
    }
   ],
   "source": [
    "n = len(df_sample)\n",
    "k = math.ceil(1 + 3.3219 * math.log10(n))\n",
    "diag = df_sample[\"Diag\"]\n",
    "print(f\"Number of classes (k): {k}\")\n",
    "# Create bins\n",
    "bins = np.linspace(diag.min(), diag.max(), k + 1)\n",
    "\n",
    "# Create frequency table\n",
    "freq_table = pd.cut(diag, bins=bins, right=False, include_lowest=True).value_counts().sort_index()\n",
    "\n",
    "# Convert to DataFrame for display\n",
    "freq_df = freq_table.reset_index()\n",
    "freq_df.columns = ['Interval', 'Frequency']\n",
    "\n",
    "print(freq_df.to_string(index=False))"
   ]
  },
  {
   "cell_type": "code",
   "execution_count": null,
   "metadata": {},
   "outputs": [],
   "source": []
  },
  {
   "cell_type": "code",
   "execution_count": null,
   "metadata": {},
   "outputs": [],
   "source": []
  },
  {
   "cell_type": "code",
   "execution_count": null,
   "metadata": {},
   "outputs": [],
   "source": []
  },
  {
   "cell_type": "code",
   "execution_count": null,
   "metadata": {},
   "outputs": [],
   "source": []
  }
 ],
 "metadata": {
  "kernelspec": {
   "display_name": "Python 3",
   "language": "python",
   "name": "python3"
  },
  "language_info": {
   "codemirror_mode": {
    "name": "ipython",
    "version": 3
   },
   "file_extension": ".py",
   "mimetype": "text/x-python",
   "name": "python",
   "nbconvert_exporter": "python",
   "pygments_lexer": "ipython3",
   "version": "3.13.2"
  }
 },
 "nbformat": 4,
 "nbformat_minor": 2
}
