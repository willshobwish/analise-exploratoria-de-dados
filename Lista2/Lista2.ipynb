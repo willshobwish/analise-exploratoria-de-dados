{
  "cells": [
    {
      "cell_type": "code",
      "execution_count": 173,
      "metadata": {
        "colab": {
          "base_uri": "https://localhost:8080/"
        },
        "id": "vWsrxBehxwG4",
        "outputId": "a3c3c5dc-beff-4e5d-80be-50f8bdefb286"
      },
      "outputs": [],
      "source": [
        "# !pip install pandas matplotlib numpy seaborn"
      ]
    },
    {
      "cell_type": "code",
      "execution_count": 174,
      "metadata": {
        "id": "6OJtBfuIx6Rw"
      },
      "outputs": [],
      "source": [
        "import pandas as pd\n",
        "import pandas as pd\n",
        "import matplotlib.pyplot as plt\n",
        "import numpy as np\n",
        "import seaborn as sns\n",
        "import math\n",
        "from scipy.stats import chi2_contingency"
      ]
    },
    {
      "cell_type": "markdown",
      "metadata": {
        "id": "E0dTWRhgyOU5"
      },
      "source": [
        "Exercicio seção 1\n",
        "\n",
        "Tabela de fisioterapia"
      ]
    },
    {
      "cell_type": "code",
      "execution_count": 175,
      "metadata": {
        "id": "kuot2jJBx61_"
      },
      "outputs": [
        {
          "data": {
            "text/html": [
              "<div>\n",
              "<style scoped>\n",
              "    .dataframe tbody tr th:only-of-type {\n",
              "        vertical-align: middle;\n",
              "    }\n",
              "\n",
              "    .dataframe tbody tr th {\n",
              "        vertical-align: top;\n",
              "    }\n",
              "\n",
              "    .dataframe thead th {\n",
              "        text-align: right;\n",
              "    }\n",
              "</style>\n",
              "<table border=\"1\" class=\"dataframe\">\n",
              "  <thead>\n",
              "    <tr style=\"text-align: right;\">\n",
              "      <th></th>\n",
              "      <th>Paciente</th>\n",
              "      <th>Fisioterapia</th>\n",
              "      <th>Sequelas</th>\n",
              "      <th>Cirurgia</th>\n",
              "    </tr>\n",
              "  </thead>\n",
              "  <tbody>\n",
              "    <tr>\n",
              "      <th>0</th>\n",
              "      <td>1</td>\n",
              "      <td>7</td>\n",
              "      <td>S</td>\n",
              "      <td>A</td>\n",
              "    </tr>\n",
              "    <tr>\n",
              "      <th>1</th>\n",
              "      <td>2</td>\n",
              "      <td>8</td>\n",
              "      <td>S</td>\n",
              "      <td>M</td>\n",
              "    </tr>\n",
              "    <tr>\n",
              "      <th>2</th>\n",
              "      <td>3</td>\n",
              "      <td>5</td>\n",
              "      <td>N</td>\n",
              "      <td>A</td>\n",
              "    </tr>\n",
              "    <tr>\n",
              "      <th>3</th>\n",
              "      <td>4</td>\n",
              "      <td>6</td>\n",
              "      <td>N</td>\n",
              "      <td>M</td>\n",
              "    </tr>\n",
              "    <tr>\n",
              "      <th>4</th>\n",
              "      <td>5</td>\n",
              "      <td>4</td>\n",
              "      <td>N</td>\n",
              "      <td>M</td>\n",
              "    </tr>\n",
              "    <tr>\n",
              "      <th>5</th>\n",
              "      <td>6</td>\n",
              "      <td>5</td>\n",
              "      <td>S</td>\n",
              "      <td>B</td>\n",
              "    </tr>\n",
              "    <tr>\n",
              "      <th>6</th>\n",
              "      <td>7</td>\n",
              "      <td>7</td>\n",
              "      <td>S</td>\n",
              "      <td>A</td>\n",
              "    </tr>\n",
              "    <tr>\n",
              "      <th>7</th>\n",
              "      <td>8</td>\n",
              "      <td>7</td>\n",
              "      <td>N</td>\n",
              "      <td>M</td>\n",
              "    </tr>\n",
              "    <tr>\n",
              "      <th>8</th>\n",
              "      <td>9</td>\n",
              "      <td>6</td>\n",
              "      <td>N</td>\n",
              "      <td>B</td>\n",
              "    </tr>\n",
              "    <tr>\n",
              "      <th>9</th>\n",
              "      <td>10</td>\n",
              "      <td>8</td>\n",
              "      <td>S</td>\n",
              "      <td>M</td>\n",
              "    </tr>\n",
              "    <tr>\n",
              "      <th>10</th>\n",
              "      <td>11</td>\n",
              "      <td>6</td>\n",
              "      <td>S</td>\n",
              "      <td>B</td>\n",
              "    </tr>\n",
              "    <tr>\n",
              "      <th>11</th>\n",
              "      <td>12</td>\n",
              "      <td>5</td>\n",
              "      <td>N</td>\n",
              "      <td>B</td>\n",
              "    </tr>\n",
              "    <tr>\n",
              "      <th>12</th>\n",
              "      <td>13</td>\n",
              "      <td>5</td>\n",
              "      <td>S</td>\n",
              "      <td>M</td>\n",
              "    </tr>\n",
              "    <tr>\n",
              "      <th>13</th>\n",
              "      <td>14</td>\n",
              "      <td>4</td>\n",
              "      <td>N</td>\n",
              "      <td>M</td>\n",
              "    </tr>\n",
              "    <tr>\n",
              "      <th>14</th>\n",
              "      <td>15</td>\n",
              "      <td>5</td>\n",
              "      <td>N</td>\n",
              "      <td>A</td>\n",
              "    </tr>\n",
              "  </tbody>\n",
              "</table>\n",
              "</div>"
            ],
            "text/plain": [
              "    Paciente  Fisioterapia Sequelas Cirurgia\n",
              "0          1             7        S        A\n",
              "1          2             8        S        M\n",
              "2          3             5        N        A\n",
              "3          4             6        N        M\n",
              "4          5             4        N        M\n",
              "5          6             5        S        B\n",
              "6          7             7        S        A\n",
              "7          8             7        N        M\n",
              "8          9             6        N        B\n",
              "9         10             8        S        M\n",
              "10        11             6        S        B\n",
              "11        12             5        N        B\n",
              "12        13             5        S        M\n",
              "13        14             4        N        M\n",
              "14        15             5        N        A"
            ]
          },
          "metadata": {},
          "output_type": "display_data"
        }
      ],
      "source": [
        "df_fisio = pd.DataFrame({\n",
        "    \"Paciente\": list(range(1, 16)),\n",
        "    \"Fisioterapia\": [7, 8, 5, 6, 4, 5, 7, 7, 6, 8, 6, 5, 5, 4, 5],\n",
        "    \"Sequelas\": [\"S\", \"S\", \"N\", \"N\", \"N\", \"S\", \"S\", \"N\", \"N\", \"S\", \"S\", \"N\", \"S\", \"N\", \"N\"],\n",
        "    \"Cirurgia\": [\"A\", \"M\", \"A\", \"M\", \"M\", \"B\", \"A\", \"M\", \"B\", \"M\", \"B\", \"B\", \"M\", \"M\", \"A\"]\n",
        "})\n",
        "display(df_fisio)"
      ]
    },
    {
      "cell_type": "markdown",
      "metadata": {},
      "source": [
        "Faça um gráfico de ramos-e-folhas para a variável \\enquote{Fisioterapia}."
      ]
    },
    {
      "cell_type": "code",
      "execution_count": 176,
      "metadata": {},
      "outputs": [
        {
          "data": {
            "text/plain": [
              "Fisioterapia\n",
              "4    2\n",
              "5    5\n",
              "6    3\n",
              "7    3\n",
              "8    2\n",
              "Name: count, dtype: int64"
            ]
          },
          "metadata": {},
          "output_type": "display_data"
        }
      ],
      "source": [
        "display(df_fisio[\"Fisioterapia\"].value_counts().sort_index())"
      ]
    },
    {
      "cell_type": "markdown",
      "metadata": {},
      "source": [
        "Verifique se existe relação entre pacientes que fizeram menos de 6 sessões de fisioterapia e não ficaram com sequelas. Elabore uma tabela de contingência."
      ]
    },
    {
      "cell_type": "code",
      "execution_count": 177,
      "metadata": {},
      "outputs": [
        {
          "data": {
            "text/html": [
              "<div>\n",
              "<style scoped>\n",
              "    .dataframe tbody tr th:only-of-type {\n",
              "        vertical-align: middle;\n",
              "    }\n",
              "\n",
              "    .dataframe tbody tr th {\n",
              "        vertical-align: top;\n",
              "    }\n",
              "\n",
              "    .dataframe thead th {\n",
              "        text-align: right;\n",
              "    }\n",
              "</style>\n",
              "<table border=\"1\" class=\"dataframe\">\n",
              "  <thead>\n",
              "    <tr style=\"text-align: right;\">\n",
              "      <th>Sequelas</th>\n",
              "      <th>N</th>\n",
              "      <th>S</th>\n",
              "      <th>All</th>\n",
              "    </tr>\n",
              "    <tr>\n",
              "      <th>Menos de 6</th>\n",
              "      <th></th>\n",
              "      <th></th>\n",
              "      <th></th>\n",
              "    </tr>\n",
              "  </thead>\n",
              "  <tbody>\n",
              "    <tr>\n",
              "      <th>False</th>\n",
              "      <td>3</td>\n",
              "      <td>5</td>\n",
              "      <td>8</td>\n",
              "    </tr>\n",
              "    <tr>\n",
              "      <th>True</th>\n",
              "      <td>5</td>\n",
              "      <td>2</td>\n",
              "      <td>7</td>\n",
              "    </tr>\n",
              "    <tr>\n",
              "      <th>All</th>\n",
              "      <td>8</td>\n",
              "      <td>7</td>\n",
              "      <td>15</td>\n",
              "    </tr>\n",
              "  </tbody>\n",
              "</table>\n",
              "</div>"
            ],
            "text/plain": [
              "Sequelas    N  S  All\n",
              "Menos de 6           \n",
              "False       3  5    8\n",
              "True        5  2    7\n",
              "All         8  7   15"
            ]
          },
          "execution_count": 177,
          "metadata": {},
          "output_type": "execute_result"
        }
      ],
      "source": [
        "df_fisio[\"Menos de 6\"] = df_fisio[\"Fisioterapia\"] < 6\n",
        "pd.crosstab(df_fisio[\"Menos de 6\"], df_fisio[\"Sequelas\"],margins=True)"
      ]
    },
    {
      "cell_type": "markdown",
      "metadata": {},
      "source": [
        "Usando as variáveis Sequelas e Cirurgia, construa um gráfico de barras e um gráfico de setores."
      ]
    },
    {
      "cell_type": "code",
      "execution_count": 178,
      "metadata": {
        "colab": {
          "base_uri": "https://localhost:8080/",
          "height": 472
        },
        "id": "mJv-s4MVx68i",
        "outputId": "7af12c78-85f4-461a-8657-b12e775bab2a"
      },
      "outputs": [
        {
          "data": {
            "image/png": "[encoded data removed]",
            "text/plain": [
              "<Figure size 640x480 with 1 Axes>"
            ]
          },
          "metadata": {},
          "output_type": "display_data"
        }
      ],
      "source": [
        "cross_tab = pd.crosstab(df_fisio[\"Cirurgia\"], df_fisio[\"Sequelas\"])\n",
        "sns.countplot(data=df_fisio, x=\"Cirurgia\", hue=\"Sequelas\", palette=\"Set2\")\n",
        "plt.ylabel(\"Frequência\")\n",
        "plt.xlabel(\"Cirurgia\")\n",
        "plt.title(\"Frequência de complexidade de cirugia agrupado por sequelas\")\n",
        "plt.savefig(\"FrequenciaCirurgiaSequela.pdf\",bbox_inches='tight')"
      ]
    },
    {
      "cell_type": "code",
      "execution_count": 179,
      "metadata": {
        "colab": {
          "base_uri": "https://localhost:8080/",
          "height": 598
        },
        "id": "r1RJ-8Xmx7Ck",
        "outputId": "a646212b-7584-463a-cad9-62c7733a0f89"
      },
      "outputs": [
        {
          "data": {
            "image/png": "[encoded data removed]",
            "text/plain": [
              "<Figure size 700x700 with 1 Axes>"
            ]
          },
          "metadata": {},
          "output_type": "display_data"
        }
      ],
      "source": [
        "# Gráfico de Setores (Pizza) com Seaborn + Matplotlib\n",
        "sequelas_counts = df_fisio[\"Sequelas\"].value_counts()\n",
        "\n",
        "# Plotando a pizza\n",
        "plt.figure(figsize=(7, 7))\n",
        "plt.pie(sequelas_counts, labels=sequelas_counts.index, autopct='%1.1f%%', startangle=90, colors=sns.color_palette(\"Set2\", len(sequelas_counts)))\n",
        "plt.title(\"Proporção de pacientes sem/com sequelas\")\n",
        "plt.ylabel(\"\")  # Remove o label y\n",
        "plt.savefig(\"ProporcaoPacienteSemComSequela.pdf\",bbox_inches='tight')\n",
        "plt.show()"
      ]
    },
    {
      "cell_type": "code",
      "execution_count": 180,
      "metadata": {
        "colab": {
          "base_uri": "https://localhost:8080/",
          "height": 598
        },
        "id": "4mZv7uZ-1-_h",
        "outputId": "a403711a-8481-4e0c-93a4-e993b32ab4c9"
      },
      "outputs": [
        {
          "data": {
            "image/png": "[encoded data removed]",
            "text/plain": [
              "<Figure size 700x700 with 1 Axes>"
            ]
          },
          "metadata": {},
          "output_type": "display_data"
        }
      ],
      "source": [
        "# Gráfico de Setores (Pizza) com Seaborn + Matplotlib\n",
        "sequelas_counts = df_fisio[\"Cirurgia\"].value_counts()\n",
        "\n",
        "# Plotando a pizza\n",
        "plt.figure(figsize=(7, 7))\n",
        "plt.pie(sequelas_counts, labels=sequelas_counts.index, autopct='%1.1f%%', startangle=90, colors=sns.color_palette(\"Set2\", len(sequelas_counts)))\n",
        "plt.title(\"Proporção de grau de complexidade de cirurgia\")\n",
        "plt.ylabel(\"\")  # Remove o label y\n",
        "plt.savefig(\"ProporcaoGrauComplexidadeCirurgia.pdf\",bbox_inches='tight')\n",
        "plt.show()"
      ]
    },
    {
      "cell_type": "markdown",
      "metadata": {},
      "source": [
        "Faça um boxplot para a variável Fisioterapia, considerando apenas pacientes com sequelas. Compare com o grupo sem sequelas."
      ]
    },
    {
      "cell_type": "code",
      "execution_count": 181,
      "metadata": {
        "colab": {
          "base_uri": "https://localhost:8080/",
          "height": 449
        },
        "id": "JJ2Pecv74uP6",
        "outputId": "73233177-92e7-4ab7-f37d-ebae9b9d12bf"
      },
      "outputs": [
        {
          "data": {
            "image/png": "[encoded data removed]",
            "text/plain": [
              "<Figure size 640x480 with 1 Axes>"
            ]
          },
          "metadata": {},
          "output_type": "display_data"
        }
      ],
      "source": [
        "sns.boxplot(data=df_fisio,x='Fisioterapia',hue=\"Sequelas\")\n",
        "plt.grid()\n",
        "plt.savefig(\"Boxplot.pdf\",bbox_inches='tight')\n",
        "plt.show()"
      ]
    },
    {
      "cell_type": "markdown",
      "metadata": {},
      "source": [
        "Verifique se existe relação entre pacientes que fizeram menos de 6 sessões de fisioterapia e não ficaram com sequelas. Elabore uma tabela de contingência."
      ]
    },
    {
      "cell_type": "code",
      "execution_count": 182,
      "metadata": {
        "colab": {
          "base_uri": "https://localhost:8080/",
          "height": 206
        },
        "id": "56ZA3C6s5Jyq",
        "outputId": "25567316-9924-4146-9b8d-0c9ead4d70f1"
      },
      "outputs": [
        {
          "data": {
            "text/html": [
              "<div>\n",
              "<style scoped>\n",
              "    .dataframe tbody tr th:only-of-type {\n",
              "        vertical-align: middle;\n",
              "    }\n",
              "\n",
              "    .dataframe tbody tr th {\n",
              "        vertical-align: top;\n",
              "    }\n",
              "\n",
              "    .dataframe thead th {\n",
              "        text-align: right;\n",
              "    }\n",
              "</style>\n",
              "<table border=\"1\" class=\"dataframe\">\n",
              "  <thead>\n",
              "    <tr style=\"text-align: right;\">\n",
              "      <th>Sequelas</th>\n",
              "      <th>N</th>\n",
              "      <th>S</th>\n",
              "      <th>All</th>\n",
              "    </tr>\n",
              "    <tr>\n",
              "      <th>Menos_de_6</th>\n",
              "      <th></th>\n",
              "      <th></th>\n",
              "      <th></th>\n",
              "    </tr>\n",
              "  </thead>\n",
              "  <tbody>\n",
              "    <tr>\n",
              "      <th>False</th>\n",
              "      <td>3</td>\n",
              "      <td>5</td>\n",
              "      <td>8</td>\n",
              "    </tr>\n",
              "    <tr>\n",
              "      <th>True</th>\n",
              "      <td>5</td>\n",
              "      <td>2</td>\n",
              "      <td>7</td>\n",
              "    </tr>\n",
              "    <tr>\n",
              "      <th>All</th>\n",
              "      <td>8</td>\n",
              "      <td>7</td>\n",
              "      <td>15</td>\n",
              "    </tr>\n",
              "  </tbody>\n",
              "</table>\n",
              "</div>"
            ],
            "text/plain": [
              "Sequelas    N  S  All\n",
              "Menos_de_6           \n",
              "False       3  5    8\n",
              "True        5  2    7\n",
              "All         8  7   15"
            ]
          },
          "metadata": {},
          "output_type": "display_data"
        },
        {
          "name": "stdout",
          "output_type": "stream",
          "text": [
            "\n",
            "Valor do Qui-quadrado: 1.7267\n"
          ]
        }
      ],
      "source": [
        "df_fisio[\"Menos_de_6\"] = df_fisio[\"Fisioterapia\"] < 6\n",
        "contingencia_6  = pd.crosstab(df_fisio[\"Menos_de_6\"], df_fisio[\"Sequelas\"],margins=True)\n",
        "display(contingencia_6)\n",
        "chi2, p, dof, expected = chi2_contingency(contingencia_6)\n",
        "print(f\"\\nValor do Qui-quadrado: {chi2:.4f}\")\n"
      ]
    },
    {
      "cell_type": "markdown",
      "metadata": {},
      "source": [
        "Elabore uma tabela de contingência relacionando o grau de complexidade da cirurgia com a variável Sequelas."
      ]
    },
    {
      "cell_type": "code",
      "execution_count": 183,
      "metadata": {},
      "outputs": [
        {
          "data": {
            "text/html": [
              "<div>\n",
              "<style scoped>\n",
              "    .dataframe tbody tr th:only-of-type {\n",
              "        vertical-align: middle;\n",
              "    }\n",
              "\n",
              "    .dataframe tbody tr th {\n",
              "        vertical-align: top;\n",
              "    }\n",
              "\n",
              "    .dataframe thead th {\n",
              "        text-align: right;\n",
              "    }\n",
              "</style>\n",
              "<table border=\"1\" class=\"dataframe\">\n",
              "  <thead>\n",
              "    <tr style=\"text-align: right;\">\n",
              "      <th>Sequelas</th>\n",
              "      <th>N</th>\n",
              "      <th>S</th>\n",
              "      <th>All</th>\n",
              "    </tr>\n",
              "    <tr>\n",
              "      <th>Cirurgia</th>\n",
              "      <th></th>\n",
              "      <th></th>\n",
              "      <th></th>\n",
              "    </tr>\n",
              "  </thead>\n",
              "  <tbody>\n",
              "    <tr>\n",
              "      <th>A</th>\n",
              "      <td>2</td>\n",
              "      <td>2</td>\n",
              "      <td>4</td>\n",
              "    </tr>\n",
              "    <tr>\n",
              "      <th>B</th>\n",
              "      <td>2</td>\n",
              "      <td>2</td>\n",
              "      <td>4</td>\n",
              "    </tr>\n",
              "    <tr>\n",
              "      <th>M</th>\n",
              "      <td>4</td>\n",
              "      <td>3</td>\n",
              "      <td>7</td>\n",
              "    </tr>\n",
              "    <tr>\n",
              "      <th>All</th>\n",
              "      <td>8</td>\n",
              "      <td>7</td>\n",
              "      <td>15</td>\n",
              "    </tr>\n",
              "  </tbody>\n",
              "</table>\n",
              "</div>"
            ],
            "text/plain": [
              "Sequelas  N  S  All\n",
              "Cirurgia           \n",
              "A         2  2    4\n",
              "B         2  2    4\n",
              "M         4  3    7\n",
              "All       8  7   15"
            ]
          },
          "metadata": {},
          "output_type": "display_data"
        }
      ],
      "source": [
        "contingencia  = pd.crosstab(df_fisio[\"Cirurgia\"], df_fisio[\"Sequelas\"],margins=True)\n",
        "display(contingencia)"
      ]
    },
    {
      "cell_type": "code",
      "execution_count": 184,
      "metadata": {
        "id": "UYMe0d2ax7IT"
      },
      "outputs": [],
      "source": [
        "df = pd.read_csv(\"https://drive.google.com/uc?id=19qbY3djYikS-okhQVPFDR1nIi6KTuv8i\")"
      ]
    },
    {
      "cell_type": "markdown",
      "metadata": {},
      "source": [
        "(a) Com base nas informações do arquivo, construa um novo banco de dados adicio-\n",
        "nando 6 indivíduos escolhidos ao acaso. Use set.seed(numero_email) e imprima\n",
        "os valores sorteados."
      ]
    },
    {
      "cell_type": "code",
      "execution_count": 185,
      "metadata": {},
      "outputs": [
        {
          "data": {
            "text/html": [
              "<div>\n",
              "<style scoped>\n",
              "    .dataframe tbody tr th:only-of-type {\n",
              "        vertical-align: middle;\n",
              "    }\n",
              "\n",
              "    .dataframe tbody tr th {\n",
              "        vertical-align: top;\n",
              "    }\n",
              "\n",
              "    .dataframe thead th {\n",
              "        text-align: right;\n",
              "    }\n",
              "</style>\n",
              "<table border=\"1\" class=\"dataframe\">\n",
              "  <thead>\n",
              "    <tr style=\"text-align: right;\">\n",
              "      <th></th>\n",
              "      <th>Pac_No</th>\n",
              "      <th>Idade</th>\n",
              "      <th>Diag</th>\n",
              "      <th>Recup</th>\n",
              "      <th>Tratam</th>\n",
              "      <th>Coag</th>\n",
              "    </tr>\n",
              "  </thead>\n",
              "  <tbody>\n",
              "    <tr>\n",
              "      <th>22</th>\n",
              "      <td>23</td>\n",
              "      <td>75</td>\n",
              "      <td>30</td>\n",
              "      <td>22</td>\n",
              "      <td>III</td>\n",
              "      <td>sim</td>\n",
              "    </tr>\n",
              "    <tr>\n",
              "      <th>11</th>\n",
              "      <td>20</td>\n",
              "      <td>24</td>\n",
              "      <td>3</td>\n",
              "      <td>1</td>\n",
              "      <td>II</td>\n",
              "      <td>nao</td>\n",
              "    </tr>\n",
              "    <tr>\n",
              "      <th>3</th>\n",
              "      <td>7</td>\n",
              "      <td>15</td>\n",
              "      <td>53</td>\n",
              "      <td>46</td>\n",
              "      <td>I</td>\n",
              "      <td>sim</td>\n",
              "    </tr>\n",
              "    <tr>\n",
              "      <th>1</th>\n",
              "      <td>4</td>\n",
              "      <td>15</td>\n",
              "      <td>52</td>\n",
              "      <td>45</td>\n",
              "      <td>I</td>\n",
              "      <td>nao</td>\n",
              "    </tr>\n",
              "    <tr>\n",
              "      <th>15</th>\n",
              "      <td>18</td>\n",
              "      <td>31</td>\n",
              "      <td>9</td>\n",
              "      <td>3</td>\n",
              "      <td>II</td>\n",
              "      <td>sim</td>\n",
              "    </tr>\n",
              "    <tr>\n",
              "      <th>10</th>\n",
              "      <td>16</td>\n",
              "      <td>40</td>\n",
              "      <td>20</td>\n",
              "      <td>11</td>\n",
              "      <td>III</td>\n",
              "      <td>sim</td>\n",
              "    </tr>\n",
              "  </tbody>\n",
              "</table>\n",
              "</div>"
            ],
            "text/plain": [
              "    Pac_No  Idade  Diag  Recup Tratam Coag\n",
              "22      23     75    30     22    III  sim\n",
              "11      20     24     3      1     II  nao\n",
              "3        7     15    53     46      I  sim\n",
              "1        4     15    52     45      I  nao\n",
              "15      18     31     9      3     II  sim\n",
              "10      16     40    20     11    III  sim"
            ]
          },
          "metadata": {},
          "output_type": "display_data"
        }
      ],
      "source": [
        "numero_email = 48\n",
        "df = df.sample(n=6,random_state=numero_email)\n",
        "display(df.head(6))\n"
      ]
    },
    {
      "cell_type": "markdown",
      "metadata": {},
      "source": [
        "(b) No computador, crie uma nova planilha veneno123 com os dados apresentados e\n",
        "salve em CSV."
      ]
    },
    {
      "cell_type": "code",
      "execution_count": 186,
      "metadata": {
        "id": "nf-0NSudx7ND"
      },
      "outputs": [],
      "source": [
        "df.to_csv(\"veneno123.csv\",index=False)"
      ]
    },
    {
      "cell_type": "markdown",
      "metadata": {},
      "source": [
        "(c) Considerando essa nova planilha:\n",
        "i. Classifique cada uma das variáveis."
      ]
    },
    {
      "cell_type": "code",
      "execution_count": 187,
      "metadata": {
        "id": "EJsLLi3Ix7SG"
      },
      "outputs": [
        {
          "name": "stdout",
          "output_type": "stream",
          "text": [
            "Pac_No\n",
            "Idade\n",
            "Diag\n",
            "Recup\n",
            "Tratam\n",
            "Coag\n"
          ]
        }
      ],
      "source": [
        "for i in df.columns:\n",
        "    print(i)"
      ]
    },
    {
      "cell_type": "markdown",
      "metadata": {},
      "source": [
        "ii. Construa uma tabela de distribuição de frequência para a variável Diag, usando\n",
        "k classes pelo método de Sturges."
      ]
    },
    {
      "cell_type": "code",
      "execution_count": 188,
      "metadata": {},
      "outputs": [
        {
          "name": "stdout",
          "output_type": "stream",
          "text": [
            "Amplitude total: 45\n",
            "H: 15\n",
            "Bins: [1, 16, 31, 46]\n",
            "Frequencia: Recup\n",
            "[1, 16)     3\n",
            "[16, 31)    1\n",
            "[31, 46)    1\n",
            "Name: count, dtype: int64\n",
            "  Intervalo  Frequência\n",
            "0   [1, 16)           3\n",
            "1  [16, 31)           1\n",
            "2  [31, 46)           1\n"
          ]
        },
        {
          "data": {
            "image/png": "[encoded data removed]",
            "text/plain": [
              "<Figure size 640x480 with 1 Axes>"
            ]
          },
          "metadata": {},
          "output_type": "display_data"
        }
      ],
      "source": [
        "# 1. Número de classes (Sturges), nao possui implementacao em python\n",
        "n = len(df[\"Recup\"])\n",
        "k = int(1 + 3.3219 * math.log10(n))\n",
        "\n",
        "# 2. Amplitude total\n",
        "amplitude_total = df[\"Recup\"].max() - df[\"Recup\"].min()\n",
        "print(f\"Amplitude total: {amplitude_total}\")\n",
        "\n",
        "# 3. Amplitude de cada classe\n",
        "h = math.ceil(amplitude_total / k)\n",
        "print(f\"H: {h}\")\n",
        "\n",
        "# 4. Criar os intervalos de classe\n",
        "bins = list(range(df[\"Recup\"].min(), df[\"Recup\"].max() + h, h))\n",
        "print(f\"Bins: {bins}\")\n",
        "\n",
        "# 5. Frequência\n",
        "frequencia = pd.cut(df[\"Recup\"], bins=bins, right=False).value_counts().sort_index()\n",
        "print(f\"Frequencia: {frequencia}\")\n",
        "\n",
        "# 6. Exibir tabela de frequência\n",
        "freq_df = pd.DataFrame({\n",
        "    \"Intervalo\": frequencia.index.astype(str),\n",
        "    \"Frequência\": frequencia.values\n",
        "})\n",
        "\n",
        "print(freq_df)\n",
        "\n",
        "sns.histplot(data=df,x=\"Recup\", bins=bins)\n",
        "plt.title(\"Histograma - Recuperação\")\n",
        "plt.xlabel(\"Recup\")\n",
        "plt.ylabel(\"Frequência\")\n",
        "plt.xticks(bins)\n",
        "plt.savefig(\"RecuperacaoSturges.pdf\",bbox_inches='tight')\n",
        "plt.show()"
      ]
    },
    {
      "cell_type": "code",
      "execution_count": 189,
      "metadata": {
        "id": "YbxpKjN9x7X2"
      },
      "outputs": [
        {
          "data": {
            "image/png": "[encoded data removed]",
            "text/plain": [
              "<Figure size 640x480 with 1 Axes>"
            ]
          },
          "metadata": {},
          "output_type": "display_data"
        }
      ],
      "source": [
        "sns.histplot(data=df,x=\"Recup\", bins=bins, edgecolor=\"black\",hue=\"Tratam\", multiple=\"dodge\")\n",
        "# plt.title(\"\")\n",
        "plt.xlabel(\"Recup\")\n",
        "plt.ylabel(\"Frequência\")\n",
        "plt.xticks(bins)\n",
        "plt.savefig(\"FrequenciaCirurgiaSequela.pdf\",bbox_inches='tight')\n",
        "plt.show()"
      ]
    },
    {
      "cell_type": "markdown",
      "metadata": {},
      "source": [
        "Através de representação gráfica adequada, compare a variável Recup entre os pacientes dentro dos três tratamentos. Você diria que as recuperações apresentam distribuição simétrica e mesocúrtica dentro dos três tratamentos (I, II, III)?"
      ]
    },
    {
      "cell_type": "code",
      "execution_count": 190,
      "metadata": {},
      "outputs": [
        {
          "data": {
            "image/png": "[encoded data removed]",
            "text/plain": [
              "<Figure size 1500x400 with 3 Axes>"
            ]
          },
          "metadata": {},
          "output_type": "display_data"
        }
      ],
      "source": [
        "# Regra de Sturges para calcular número de bins\n",
        "def sturges_rule(n):\n",
        "    return int(np.ceil(1 + np.log2(n)))\n",
        "\n",
        "# Criar subgrupos\n",
        "recup1 = df[df[\"Tratam\"] == \"I\"][\"Recup\"]\n",
        "recup2 = df[df[\"Tratam\"] == \"II\"][\"Recup\"]\n",
        "recup3 = df[df[\"Tratam\"] == \"III\"][\"Recup\"]\n",
        "\n",
        "# Plotando os histogramas lado a lado\n",
        "fig, axes = plt.subplots(1, 3, figsize=(15, 4))\n",
        "\n",
        "for i, (recup, title, ax) in enumerate(zip(\n",
        "    [recup1, recup2, recup3],\n",
        "    [\"Tratam I\", \"Tratam II\", \"Tratam III\"],\n",
        "    axes\n",
        ")):\n",
        "    bins = sturges_rule(len(recup))\n",
        "    counts, bins, patches = ax.hist(recup, bins=bins, edgecolor='black')\n",
        "    ax.set_title(title)\n",
        "    ax.set_xlabel(\"Recup\")\n",
        "    ax.set_ylabel(\"Frequência\")\n",
        "\n",
        "    # Adiciona os rótulos de frequência\n",
        "    for count, patch in zip(counts, patches):\n",
        "        ax.text(patch.get_x() + patch.get_width()/2, count + 0.1, int(count),\n",
        "                ha='center', va='bottom')\n",
        "\n",
        "plt.tight_layout()\n",
        "plt.savefig(\"FrequenciaTratamento.pdf\",bbox_inches='tight')\n",
        "plt.show()\n"
      ]
    },
    {
      "cell_type": "markdown",
      "metadata": {},
      "source": [
        "Calcule os cinco números resumo e a média amostral para Recup em cada tratamento. Qual medida de posição é mais adequada? Justifique."
      ]
    },
    {
      "cell_type": "code",
      "execution_count": 191,
      "metadata": {},
      "outputs": [
        {
          "name": "stdout",
          "output_type": "stream",
          "text": [
            "0.1999999999999993\n",
            "0.7999999999999999\n",
            "24.199999999999996\n"
          ]
        }
      ],
      "source": [
        "def kurt(p10,q1,q3,p90):\n",
        "    return ((q3-q1)/2*(p90-p10))\n",
        "recup1percentile = np.percentile(df[df[\"Tratam\"] == \"I\"][\"Recup\"], [10,25,75,90])\n",
        "recup2percentile = np.percentile(df[df[\"Tratam\"] == \"II\"][\"Recup\"], [10,25,75,90])\n",
        "recup3percentile = np.percentile(df[df[\"Tratam\"] == \"III\"][\"Recup\"], [10,25,75,90])\n",
        "print(kurt(recup1percentile[0],recup1percentile[1],recup1percentile[2],recup1percentile[3]))\n",
        "print(kurt(recup2percentile[0],recup2percentile[1],recup2percentile[2],recup2percentile[3]))\n",
        "print(kurt(recup3percentile[0],recup3percentile[1],recup3percentile[2],recup3percentile[3]))"
      ]
    },
    {
      "cell_type": "markdown",
      "metadata": {},
      "source": [
        "No R: Mínimo, Primeiro quartil (Q1) — 25%, Mediana (Q2) — 50%, Terceiro quartil (Q3) — 75%, Máximo"
      ]
    },
    {
      "cell_type": "code",
      "execution_count": 192,
      "metadata": {
        "id": "CSA4V8fVx7dn"
      },
      "outputs": [
        {
          "name": "stdout",
          "output_type": "stream",
          "text": [
            "Tratam == I:\n",
            "[45.   45.25 45.5  45.75 46.  ]\n",
            "Tratam == I Media: 45.5\n",
            "\n",
            "Tratam == II:\n",
            "[1.  1.5 2.  2.5 3. ]\n",
            "Tratam == II Media: 2.0\n",
            "\n",
            "Tratam == III:\n",
            "[11.   13.75 16.5  19.25 22.  ]\n",
            "Tratam == III Media: 16.5\n",
            "\n"
          ]
        }
      ],
      "source": [
        "recup1percentile = np.percentile(df[df[\"Tratam\"] == \"I\"][\"Recup\"], [0, 25, 50, 75, 100])\n",
        "recup2percentile = np.percentile(df[df[\"Tratam\"] == \"II\"][\"Recup\"], [0, 25, 50, 75, 100])\n",
        "recup3percentile = np.percentile(df[df[\"Tratam\"] == \"III\"][\"Recup\"], [0, 25, 50, 75, 100])\n",
        "\n",
        "print(f\"Tratam == I:\\n{recup1percentile}\")\n",
        "print(f\"Tratam == I Media: {df[df[\"Tratam\"] == \"I\"][\"Recup\"].mean()}\\n\")\n",
        "print(f\"Tratam == II:\\n{recup2percentile}\")\n",
        "print(f\"Tratam == II Media: {df[df[\"Tratam\"] == \"II\"][\"Recup\"].mean()}\\n\")\n",
        "print(f\"Tratam == III:\\n{recup3percentile}\")\n",
        "print(f\"Tratam == III Media: {df[df[\"Tratam\"] == \"III\"][\"Recup\"].mean()}\\n\")\n"
      ]
    },
    {
      "cell_type": "markdown",
      "metadata": {},
      "source": [
        "Faça boxplots de Recup para cada tratamento e discuta a homogeneidade. Calcule variâncias, desvios-padrão e semi-amplitude interquartil ($\\mathrm{IQR}/2$)."
      ]
    },
    {
      "cell_type": "code",
      "execution_count": 193,
      "metadata": {},
      "outputs": [
        {
          "data": {
            "image/png": "[encoded data removed]",
            "text/plain": [
              "<Figure size 640x480 with 1 Axes>"
            ]
          },
          "metadata": {},
          "output_type": "display_data"
        },
        {
          "name": "stdout",
          "output_type": "stream",
          "text": [
            "\n",
            "Desvio padrao Tratam I Recup\n",
            "0.7071067811865476\n",
            "\n",
            "Variancia Tratam I Recup\n",
            "0.5\n",
            "\n",
            "IQR/2 Tratam I Recup\n",
            "0.25\n",
            "\n",
            "Desvio padrao Tratam II Recup\n",
            "1.4142135623730951\n",
            "\n",
            "Variancia Tratam II Recup\n",
            "2.0\n",
            "\n",
            "IQR/2 Tratam II Recup\n",
            "0.5\n",
            "\n",
            "Desvio padrao Tratam III Recup\n",
            "7.7781745930520225\n",
            "\n",
            "Variancia Tratam III Recup\n",
            "60.5\n",
            "\n",
            "IQR/2 Tratam III Recup\n",
            "2.75\n"
          ]
        },
        {
          "data": {
            "text/plain": [
              "<Figure size 640x480 with 0 Axes>"
            ]
          },
          "metadata": {},
          "output_type": "display_data"
        }
      ],
      "source": [
        "def iqr(q1,q3):\n",
        "    return (q3-q1)/2\n",
        "sns.boxplot(data=df,x=\"Recup\",hue=\"Tratam\")\n",
        "plt.show()\n",
        "\n",
        "for a in [\"I\",\"II\",\"III\"]:\n",
        "    b = df[df[\"Tratam\"] == a][\"Recup\"]\n",
        "    print(f\"\\nDesvio padrao Tratam {a} Recup\")\n",
        "    print(np.std(b,ddof=1))\n",
        "    print(f\"\\nVariancia Tratam {a} Recup\")\n",
        "    print(np.var(b,ddof=1))\n",
        "    bq = np.percentile(b,[25,75])\n",
        "    print(f\"\\nIQR/2 Tratam {a} Recup\")\n",
        "    print(iqr(bq[0],bq[1]))\n",
        "    sns.boxplot(data=b)\n",
        "    plt.savefig(f\"Boxlplot {a}.pdf\",bbox_inches='tight')\n",
        "    plt.clf()\n"
      ]
    },
    {
      "cell_type": "markdown",
      "metadata": {},
      "source": [
        "Ao invés de trabalhar com a variável Idade, crie uma nova variável denominada Etaria, assumindo “Jovem” se a Idade for menor ou igual a 25 anos e “Adulto”, caso contrário."
      ]
    },
    {
      "cell_type": "code",
      "execution_count": 194,
      "metadata": {},
      "outputs": [
        {
          "data": {
            "text/html": [
              "<div>\n",
              "<style scoped>\n",
              "    .dataframe tbody tr th:only-of-type {\n",
              "        vertical-align: middle;\n",
              "    }\n",
              "\n",
              "    .dataframe tbody tr th {\n",
              "        vertical-align: top;\n",
              "    }\n",
              "\n",
              "    .dataframe thead th {\n",
              "        text-align: right;\n",
              "    }\n",
              "</style>\n",
              "<table border=\"1\" class=\"dataframe\">\n",
              "  <thead>\n",
              "    <tr style=\"text-align: right;\">\n",
              "      <th></th>\n",
              "      <th>Pac_No</th>\n",
              "      <th>Idade</th>\n",
              "      <th>Diag</th>\n",
              "      <th>Recup</th>\n",
              "      <th>Tratam</th>\n",
              "      <th>Coag</th>\n",
              "      <th>Etaria</th>\n",
              "    </tr>\n",
              "  </thead>\n",
              "  <tbody>\n",
              "    <tr>\n",
              "      <th>22</th>\n",
              "      <td>23</td>\n",
              "      <td>75</td>\n",
              "      <td>30</td>\n",
              "      <td>22</td>\n",
              "      <td>III</td>\n",
              "      <td>sim</td>\n",
              "      <td>Adulto</td>\n",
              "    </tr>\n",
              "    <tr>\n",
              "      <th>11</th>\n",
              "      <td>20</td>\n",
              "      <td>24</td>\n",
              "      <td>3</td>\n",
              "      <td>1</td>\n",
              "      <td>II</td>\n",
              "      <td>nao</td>\n",
              "      <td>Jovem</td>\n",
              "    </tr>\n",
              "    <tr>\n",
              "      <th>3</th>\n",
              "      <td>7</td>\n",
              "      <td>15</td>\n",
              "      <td>53</td>\n",
              "      <td>46</td>\n",
              "      <td>I</td>\n",
              "      <td>sim</td>\n",
              "      <td>Jovem</td>\n",
              "    </tr>\n",
              "    <tr>\n",
              "      <th>1</th>\n",
              "      <td>4</td>\n",
              "      <td>15</td>\n",
              "      <td>52</td>\n",
              "      <td>45</td>\n",
              "      <td>I</td>\n",
              "      <td>nao</td>\n",
              "      <td>Jovem</td>\n",
              "    </tr>\n",
              "    <tr>\n",
              "      <th>15</th>\n",
              "      <td>18</td>\n",
              "      <td>31</td>\n",
              "      <td>9</td>\n",
              "      <td>3</td>\n",
              "      <td>II</td>\n",
              "      <td>sim</td>\n",
              "      <td>Adulto</td>\n",
              "    </tr>\n",
              "    <tr>\n",
              "      <th>10</th>\n",
              "      <td>16</td>\n",
              "      <td>40</td>\n",
              "      <td>20</td>\n",
              "      <td>11</td>\n",
              "      <td>III</td>\n",
              "      <td>sim</td>\n",
              "      <td>Adulto</td>\n",
              "    </tr>\n",
              "  </tbody>\n",
              "</table>\n",
              "</div>"
            ],
            "text/plain": [
              "    Pac_No  Idade  Diag  Recup Tratam Coag  Etaria\n",
              "22      23     75    30     22    III  sim  Adulto\n",
              "11      20     24     3      1     II  nao   Jovem\n",
              "3        7     15    53     46      I  sim   Jovem\n",
              "1        4     15    52     45      I  nao   Jovem\n",
              "15      18     31     9      3     II  sim  Adulto\n",
              "10      16     40    20     11    III  sim  Adulto"
            ]
          },
          "metadata": {},
          "output_type": "display_data"
        }
      ],
      "source": [
        "def classificar_etaria(idade):\n",
        "    if idade <= 25:\n",
        "        return 'Jovem'\n",
        "    else:\n",
        "        return 'Adulto'\n",
        "df[\"Etaria\"] = df['Idade'].apply(classificar_etaria)\n",
        "display(df)"
      ]
    },
    {
      "cell_type": "markdown",
      "metadata": {},
      "source": [
        "Construa um box-plot para a variável Recup. Depois, construa os box-plots da variável Recup para cada grupo Etaria. Com base nas informações úteis do gráfico, você diria que, dependendo da faixa etária, o tempo de recuperação é diferente? Justifique sua resposta. Calcule a medida de cinco números para a variável Recup."
      ]
    },
    {
      "cell_type": "code",
      "execution_count": 195,
      "metadata": {},
      "outputs": [
        {
          "data": {
            "image/png": "[encoded data removed]",
            "text/plain": [
              "<Figure size 640x480 with 1 Axes>"
            ]
          },
          "metadata": {},
          "output_type": "display_data"
        }
      ],
      "source": [
        "# Boxplot geral\n",
        "sns.boxplot(x=df[\"Recup\"])\n",
        "plt.title(\"Boxplot de Recup\")\n",
        "plt.xlabel(\"Recup\")\n",
        "plt.savefig(\"BoxplotRecup.pdf\",bbox_inches='tight')\n",
        "plt.show()\n",
        "\n"
      ]
    },
    {
      "cell_type": "code",
      "execution_count": 196,
      "metadata": {},
      "outputs": [
        {
          "data": {
            "image/png": "[encoded data removed]",
            "text/plain": [
              "<Figure size 640x480 with 1 Axes>"
            ]
          },
          "metadata": {},
          "output_type": "display_data"
        }
      ],
      "source": [
        "# Boxplot por faixa etária\n",
        "sns.boxplot(x=\"Etaria\", y=\"Recup\", data=df)\n",
        "plt.title(\"Recup por Faixa Etária\")\n",
        "plt.xlabel(\"Faixa Etária\")\n",
        "plt.ylabel(\"Recup\")\n",
        "plt.savefig(\"BoxplotRecupFaixaEtaria.pdf\",bbox_inches='tight')\n",
        "plt.show()"
      ]
    },
    {
      "cell_type": "code",
      "execution_count": 197,
      "metadata": {},
      "outputs": [
        {
          "name": "stdout",
          "output_type": "stream",
          "text": [
            "Medida dos cinco números para Recup: [ 1.    5.   16.5  39.25 46.  ]\n"
          ]
        }
      ],
      "source": [
        "# Medida dos cinco números\n",
        "recup_fivenum = np.percentile(df[\"Recup\"], [0, 25, 50, 75, 100])\n",
        "print(f\"Medida dos cinco números para Recup: {recup_fivenum}\")"
      ]
    },
    {
      "cell_type": "markdown",
      "metadata": {},
      "source": [
        "Crie uma nova variável denominada Cura. A Cura será “Rápida” se Recup for menor ou igual a 10, será “Normal” entre $\\geq 10$ e $< 40$ e será “Lenta” para Recup $\\geq 40$."
      ]
    },
    {
      "cell_type": "code",
      "execution_count": 198,
      "metadata": {},
      "outputs": [
        {
          "data": {
            "text/html": [
              "<div>\n",
              "<style scoped>\n",
              "    .dataframe tbody tr th:only-of-type {\n",
              "        vertical-align: middle;\n",
              "    }\n",
              "\n",
              "    .dataframe tbody tr th {\n",
              "        vertical-align: top;\n",
              "    }\n",
              "\n",
              "    .dataframe thead th {\n",
              "        text-align: right;\n",
              "    }\n",
              "</style>\n",
              "<table border=\"1\" class=\"dataframe\">\n",
              "  <thead>\n",
              "    <tr style=\"text-align: right;\">\n",
              "      <th></th>\n",
              "      <th>Pac_No</th>\n",
              "      <th>Idade</th>\n",
              "      <th>Diag</th>\n",
              "      <th>Recup</th>\n",
              "      <th>Tratam</th>\n",
              "      <th>Coag</th>\n",
              "      <th>Etaria</th>\n",
              "      <th>Cura</th>\n",
              "    </tr>\n",
              "  </thead>\n",
              "  <tbody>\n",
              "    <tr>\n",
              "      <th>22</th>\n",
              "      <td>23</td>\n",
              "      <td>75</td>\n",
              "      <td>30</td>\n",
              "      <td>22</td>\n",
              "      <td>III</td>\n",
              "      <td>sim</td>\n",
              "      <td>Adulto</td>\n",
              "      <td>Normal</td>\n",
              "    </tr>\n",
              "    <tr>\n",
              "      <th>11</th>\n",
              "      <td>20</td>\n",
              "      <td>24</td>\n",
              "      <td>3</td>\n",
              "      <td>1</td>\n",
              "      <td>II</td>\n",
              "      <td>nao</td>\n",
              "      <td>Jovem</td>\n",
              "      <td>Rapida</td>\n",
              "    </tr>\n",
              "    <tr>\n",
              "      <th>3</th>\n",
              "      <td>7</td>\n",
              "      <td>15</td>\n",
              "      <td>53</td>\n",
              "      <td>46</td>\n",
              "      <td>I</td>\n",
              "      <td>sim</td>\n",
              "      <td>Jovem</td>\n",
              "      <td>Lenta</td>\n",
              "    </tr>\n",
              "    <tr>\n",
              "      <th>1</th>\n",
              "      <td>4</td>\n",
              "      <td>15</td>\n",
              "      <td>52</td>\n",
              "      <td>45</td>\n",
              "      <td>I</td>\n",
              "      <td>nao</td>\n",
              "      <td>Jovem</td>\n",
              "      <td>Lenta</td>\n",
              "    </tr>\n",
              "    <tr>\n",
              "      <th>15</th>\n",
              "      <td>18</td>\n",
              "      <td>31</td>\n",
              "      <td>9</td>\n",
              "      <td>3</td>\n",
              "      <td>II</td>\n",
              "      <td>sim</td>\n",
              "      <td>Adulto</td>\n",
              "      <td>Rapida</td>\n",
              "    </tr>\n",
              "    <tr>\n",
              "      <th>10</th>\n",
              "      <td>16</td>\n",
              "      <td>40</td>\n",
              "      <td>20</td>\n",
              "      <td>11</td>\n",
              "      <td>III</td>\n",
              "      <td>sim</td>\n",
              "      <td>Adulto</td>\n",
              "      <td>Normal</td>\n",
              "    </tr>\n",
              "  </tbody>\n",
              "</table>\n",
              "</div>"
            ],
            "text/plain": [
              "    Pac_No  Idade  Diag  Recup Tratam Coag  Etaria    Cura\n",
              "22      23     75    30     22    III  sim  Adulto  Normal\n",
              "11      20     24     3      1     II  nao   Jovem  Rapida\n",
              "3        7     15    53     46      I  sim   Jovem   Lenta\n",
              "1        4     15    52     45      I  nao   Jovem   Lenta\n",
              "15      18     31     9      3     II  sim  Adulto  Rapida\n",
              "10      16     40    20     11    III  sim  Adulto  Normal"
            ]
          },
          "metadata": {},
          "output_type": "display_data"
        }
      ],
      "source": [
        "def cura(recup):\n",
        "    if recup<10:\n",
        "        return \"Rapida\"\n",
        "    if recup<40 and recup>=10:\n",
        "        return \"Normal\"\n",
        "    if recup>=40:\n",
        "        return \"Lenta\"\n",
        "df[\"Cura\"] = df['Recup'].apply(cura)\n",
        "display(df)"
      ]
    },
    {
      "cell_type": "markdown",
      "metadata": {},
      "source": [
        "Crie uma tabela de dupla entrada com Cura nas linhas e Tratam nas colunas. Com base na tabela, você diria que neste caso a rapidez da cura depende do tipo de tratamento considerado? Justifique."
      ]
    },
    {
      "cell_type": "code",
      "execution_count": 199,
      "metadata": {},
      "outputs": [
        {
          "data": {
            "text/html": [
              "<div>\n",
              "<style scoped>\n",
              "    .dataframe tbody tr th:only-of-type {\n",
              "        vertical-align: middle;\n",
              "    }\n",
              "\n",
              "    .dataframe tbody tr th {\n",
              "        vertical-align: top;\n",
              "    }\n",
              "\n",
              "    .dataframe thead th {\n",
              "        text-align: right;\n",
              "    }\n",
              "</style>\n",
              "<table border=\"1\" class=\"dataframe\">\n",
              "  <thead>\n",
              "    <tr style=\"text-align: right;\">\n",
              "      <th>Tratam</th>\n",
              "      <th>I</th>\n",
              "      <th>II</th>\n",
              "      <th>III</th>\n",
              "      <th>All</th>\n",
              "    </tr>\n",
              "    <tr>\n",
              "      <th>Cura</th>\n",
              "      <th></th>\n",
              "      <th></th>\n",
              "      <th></th>\n",
              "      <th></th>\n",
              "    </tr>\n",
              "  </thead>\n",
              "  <tbody>\n",
              "    <tr>\n",
              "      <th>Lenta</th>\n",
              "      <td>2</td>\n",
              "      <td>0</td>\n",
              "      <td>0</td>\n",
              "      <td>2</td>\n",
              "    </tr>\n",
              "    <tr>\n",
              "      <th>Normal</th>\n",
              "      <td>0</td>\n",
              "      <td>0</td>\n",
              "      <td>2</td>\n",
              "      <td>2</td>\n",
              "    </tr>\n",
              "    <tr>\n",
              "      <th>Rapida</th>\n",
              "      <td>0</td>\n",
              "      <td>2</td>\n",
              "      <td>0</td>\n",
              "      <td>2</td>\n",
              "    </tr>\n",
              "    <tr>\n",
              "      <th>All</th>\n",
              "      <td>2</td>\n",
              "      <td>2</td>\n",
              "      <td>2</td>\n",
              "      <td>6</td>\n",
              "    </tr>\n",
              "  </tbody>\n",
              "</table>\n",
              "</div>"
            ],
            "text/plain": [
              "Tratam  I  II  III  All\n",
              "Cura                   \n",
              "Lenta   2   0    0    2\n",
              "Normal  0   0    2    2\n",
              "Rapida  0   2    0    2\n",
              "All     2   2    2    6"
            ]
          },
          "execution_count": 199,
          "metadata": {},
          "output_type": "execute_result"
        }
      ],
      "source": [
        "pd.crosstab(df[\"Cura\"],df[\"Tratam\"],margins=True)"
      ]
    },
    {
      "cell_type": "markdown",
      "metadata": {},
      "source": [
        "Verifique, graficamente, se pacientes em cada uma das categorias de Cura apresentam diferenças no que se refere ao tempo entre o contato com o inseto e a administração do tratamento (I, II, III)."
      ]
    },
    {
      "cell_type": "code",
      "execution_count": 200,
      "metadata": {},
      "outputs": [
        {
          "data": {
            "image/png": "[encoded data removed]",
            "text/plain": [
              "<Figure size 640x480 with 1 Axes>"
            ]
          },
          "metadata": {},
          "output_type": "display_data"
        }
      ],
      "source": [
        "sns.barplot(data=df,y=\"Recup\",hue=\"Tratam\",errorbar=None)\n",
        "\n",
        "plt.xlabel(\"Tipo de tratamento\")\n",
        "plt.ylabel(\"Recuperação\")\n",
        "plt.savefig(\"BarplotRecupTratam.pdf\",bbox_inches='tight')\n",
        "plt.show()"
      ]
    }
  ],
  "metadata": {
    "colab": {
      "provenance": []
    },
    "kernelspec": {
      "display_name": "Python 3",
      "name": "python3"
    },
    "language_info": {
      "codemirror_mode": {
        "name": "ipython",
        "version": 3
      },
      "file_extension": ".py",
      "mimetype": "text/x-python",
      "name": "python",
      "nbconvert_exporter": "python",
      "pygments_lexer": "ipython3",
      "version": "3.13.2"
    }
  },
  "nbformat": 4,
  "nbformat_minor": 0
}
