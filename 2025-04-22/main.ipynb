{
 "cells": [
  {
   "cell_type": "code",
   "execution_count": 31,
   "id": "1a1782f8",
   "metadata": {},
   "outputs": [],
   "source": [
    "import pandas as pd\n",
    "from scipy.stats import chi2_contingency\n",
    "from math import sqrt"
   ]
  },
  {
   "cell_type": "code",
   "execution_count": 32,
   "id": "c9c48c13",
   "metadata": {},
   "outputs": [],
   "source": [
    "df = pd.DataFrame({\n",
    "    \"x\":[0, 0, 0, 1, 1, 0, 0, 0, 0, 0, 0, 1, 1, 1, 0, 1, 0, 1, 0, 1, 1, 0, 1, 1, 1, 1, 1, 1, 1, 0, 0, 0, 1, 1, 1, 1, 1, 1, 1, 1, 0, 1, 0, 0, 0, 0, 0, 0, 1, 1, 1, 1, 0, 1, 0, 1, 0, 0, 0, 1, 0, 1, 0, 1, 1, 0, 1, 1, 1, 1, 1, 0, 0, 0, 1, 0, 1, 0, 0, 1],\n",
    "    \"y\":[0, 0, 0, 1, 1, 1, 1, 0, 0, 0, 0, 0, 1, 1, 1, 1, 0, 1, 0, 1, 1, 1, 0, 1, 1, 1, 1, 1, 0, 0, 0, 1, 1, 1, 1, 1, 1, 1, 1, 0, 0, 1, 0, 0, 0, 0, 0, 1, 1, 1, 0, 0, 0, 1, 1, 0, 1, 1, 0, 1, 0, 1, 0, 1, 1, 0, 1, 1, 1, 1, 0, 1, 1, 0, 1, 1, 1, 0, 0, 1\n",
    "]})"
   ]
  },
  {
   "cell_type": "code",
   "execution_count": 33,
   "id": "c845f30e",
   "metadata": {},
   "outputs": [
    {
     "data": {
      "text/html": [
       "<div>\n",
       "<style scoped>\n",
       "    .dataframe tbody tr th:only-of-type {\n",
       "        vertical-align: middle;\n",
       "    }\n",
       "\n",
       "    .dataframe tbody tr th {\n",
       "        vertical-align: top;\n",
       "    }\n",
       "\n",
       "    .dataframe thead th {\n",
       "        text-align: right;\n",
       "    }\n",
       "</style>\n",
       "<table border=\"1\" class=\"dataframe\">\n",
       "  <thead>\n",
       "    <tr style=\"text-align: right;\">\n",
       "      <th>y</th>\n",
       "      <th>0</th>\n",
       "      <th>1</th>\n",
       "    </tr>\n",
       "    <tr>\n",
       "      <th>x</th>\n",
       "      <th></th>\n",
       "      <th></th>\n",
       "    </tr>\n",
       "  </thead>\n",
       "  <tbody>\n",
       "    <tr>\n",
       "      <th>0</th>\n",
       "      <td>25</td>\n",
       "      <td>12</td>\n",
       "    </tr>\n",
       "    <tr>\n",
       "      <th>1</th>\n",
       "      <td>8</td>\n",
       "      <td>35</td>\n",
       "    </tr>\n",
       "  </tbody>\n",
       "</table>\n",
       "</div>"
      ],
      "text/plain": [
       "y   0   1\n",
       "x        \n",
       "0  25  12\n",
       "1   8  35"
      ]
     },
     "metadata": {},
     "output_type": "display_data"
    }
   ],
   "source": [
    "contingency_table = pd.crosstab(df[\"x\"],df[\"y\"])\n",
    "display(contingency_table)"
   ]
  },
  {
   "cell_type": "code",
   "execution_count": null,
   "id": "e7b0cc8a",
   "metadata": {},
   "outputs": [
    {
     "data": {
      "text/html": [
       "<div>\n",
       "<style scoped>\n",
       "    .dataframe tbody tr th:only-of-type {\n",
       "        vertical-align: middle;\n",
       "    }\n",
       "\n",
       "    .dataframe tbody tr th {\n",
       "        vertical-align: top;\n",
       "    }\n",
       "\n",
       "    .dataframe thead th {\n",
       "        text-align: right;\n",
       "    }\n",
       "</style>\n",
       "<table border=\"1\" class=\"dataframe\">\n",
       "  <thead>\n",
       "    <tr style=\"text-align: right;\">\n",
       "      <th>y</th>\n",
       "      <th>0</th>\n",
       "      <th>1</th>\n",
       "      <th>All</th>\n",
       "    </tr>\n",
       "    <tr>\n",
       "      <th>x</th>\n",
       "      <th></th>\n",
       "      <th></th>\n",
       "      <th></th>\n",
       "    </tr>\n",
       "  </thead>\n",
       "  <tbody>\n",
       "    <tr>\n",
       "      <th>0</th>\n",
       "      <td>25</td>\n",
       "      <td>12</td>\n",
       "      <td>37</td>\n",
       "    </tr>\n",
       "    <tr>\n",
       "      <th>1</th>\n",
       "      <td>8</td>\n",
       "      <td>35</td>\n",
       "      <td>43</td>\n",
       "    </tr>\n",
       "    <tr>\n",
       "      <th>All</th>\n",
       "      <td>33</td>\n",
       "      <td>47</td>\n",
       "      <td>80</td>\n",
       "    </tr>\n",
       "  </tbody>\n",
       "</table>\n",
       "</div>"
      ],
      "text/plain": [
       "y     0   1  All\n",
       "x               \n",
       "0    25  12   37\n",
       "1     8  35   43\n",
       "All  33  47   80"
      ]
     },
     "metadata": {},
     "output_type": "display_data"
    }
   ],
   "source": [
    "# Quando colocamos o margins=True, ele calcula as margens automaticamente\n",
    "contingency_table_margin = pd.crosstab(df[\"x\"],df[\"y\"],margins=True)\n",
    "display(contingency_table_margin)"
   ]
  },
  {
   "cell_type": "code",
   "execution_count": 35,
   "id": "1d9acb01",
   "metadata": {},
   "outputs": [],
   "source": [
    "chi2, p, dof, expected = chi2_contingency(contingency_table)"
   ]
  },
  {
   "cell_type": "code",
   "execution_count": null,
   "id": "e32902b8",
   "metadata": {},
   "outputs": [
    {
     "name": "stdout",
     "output_type": "stream",
     "text": [
      "Chi2: 17.705038942050326\n",
      "P: 2.5794240853467122e-05\n",
      "Graus de liberdade 1\n",
      "Frequencias esperadas:\n",
      " [[15.2625 21.7375]\n",
      " [17.7375 25.2625]]\n"
     ]
    }
   ],
   "source": [
    "print(\"Chi2:\", chi2)\n",
    "print(\"P:\", p)\n",
    "print(\"Graus de liberdade\", dof)\n",
    "print(\"Frequencias esperadas:\\n\", expected)"
   ]
  },
  {
   "cell_type": "markdown",
   "id": "e605cca1",
   "metadata": {},
   "source": [
    "$Contingencia=\\sqrt{\\frac{X^{2}_{amostra}}{X^{2}_{amostra}+n}}$"
   ]
  },
  {
   "cell_type": "code",
   "execution_count": null,
   "id": "e063b6cd",
   "metadata": {},
   "outputs": [
    {
     "data": {
      "text/plain": [
       "0.4256865829929998"
      ]
     },
     "metadata": {},
     "output_type": "display_data"
    }
   ],
   "source": [
    "contingencia = sqrt(chi2/(chi2+80))\n",
    "display(contingencia)"
   ]
  },
  {
   "cell_type": "markdown",
   "id": "c07609e9",
   "metadata": {},
   "source": [
    "Contingencia modificada\n",
    "$C*=\\frac{C}{\\sqrt{(K-1)/K}}$\n",
    "\n",
    "Onde $K=min\\{linha;coluna\\}$"
   ]
  },
  {
   "cell_type": "code",
   "execution_count": 41,
   "id": "73fc5348",
   "metadata": {},
   "outputs": [
    {
     "data": {
      "text/plain": [
       "0.8513731659859995"
      ]
     },
     "metadata": {},
     "output_type": "display_data"
    }
   ],
   "source": [
    "contingencia_modificada = contingencia/(sqrt(2-1)/2)\n",
    "display(contingencia_modificada)"
   ]
  },
  {
   "cell_type": "markdown",
   "id": "b94a3c3b",
   "metadata": {},
   "source": [
    "0,00 a 0,19 - correlação bem fraca\n",
    "\n",
    "0,20 a 0,39 - correlação fraca\n",
    "\n",
    "0,40 a 0,69 - correlação moderada\n",
    "\n",
    "0,70 a 0,89 - correlação forte\n",
    "\n",
    "0,90 a 1,00 - correlação muito forte"
   ]
  },
  {
   "cell_type": "code",
   "execution_count": null,
   "id": "76b0226f",
   "metadata": {},
   "outputs": [],
   "source": []
  }
 ],
 "metadata": {
  "kernelspec": {
   "display_name": "icd",
   "language": "python",
   "name": "python3"
  },
  "language_info": {
   "codemirror_mode": {
    "name": "ipython",
    "version": 3
   },
   "file_extension": ".py",
   "mimetype": "text/x-python",
   "name": "python",
   "nbconvert_exporter": "python",
   "pygments_lexer": "ipython3",
   "version": "3.13.2"
  }
 },
 "nbformat": 4,
 "nbformat_minor": 5
}
