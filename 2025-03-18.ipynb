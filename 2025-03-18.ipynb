{
 "cells": [
  {
   "cell_type": "code",
   "execution_count": 47,
   "metadata": {},
   "outputs": [
    {
     "name": "stdout",
     "output_type": "stream",
     "text": [
      "Requirement already satisfied: scipy in c:\\users\\willi\\miniconda3\\envs\\icd\\lib\\site-packages (1.15.2)\n",
      "Requirement already satisfied: numpy<2.5,>=1.23.5 in c:\\users\\willi\\miniconda3\\envs\\icd\\lib\\site-packages (from scipy) (2.2.3)\n",
      "Note: you may need to restart the kernel to use updated packages.\n"
     ]
    }
   ],
   "source": [
    "%pip install scipy"
   ]
  },
  {
   "cell_type": "code",
   "execution_count": 48,
   "metadata": {},
   "outputs": [],
   "source": [
    "import seaborn as sns\n",
    "import numpy as np\n",
    "import pandas as pd\n",
    "import random\n",
    "import scipy"
   ]
  },
  {
   "cell_type": "code",
   "execution_count": 49,
   "metadata": {},
   "outputs": [],
   "source": [
    "lista = [5.67, 7.89, 4.05, 5.36, 4.75, 4.23, 6.81, 8.47, 4.63, 6.67, 4.89, 6.23, 3.83, 7.22, 4.76, 6.99, 6.19, 3.99, 5.75, 2.57, 7.42, 4.52, 8.43, 8.39, 6.06, 6.39, 5.72, 6.45, 5.59, 5.69, 4.68, 6.47, 5.82, 4.59, 6.45, 2.59, 5.96, 7.24, 5.34, 6.42, 4.54, 6.87, 6.66, 5.18, 7.92, 4.37, 3.95, 6.38, 8.34, 6.18, 5.41, 6.14, 5.72, 7.36, 7.26, 3.97, 5.13, 5.35, 7.54, 6.15, 4.63, 5.21, 7.70, 7.38, 5.92, 3.78, 5.03, 6.10, 7.04, 7.31, 4.53, 6.90, 3.53, 4.69, 4.58, 7.13, 6.91, 5.33, 5.82, 4.17, 7.39, 6.68, 3.36, 5.95, 5.66, 8.27, 7.27, 5.50, 7.22, 5.06, 5.68, 5.20, 5.71, 6.48, 4.59, 8.21, 7.54, 6.59, 2.75, 6.62, 6.80, 8.28, 3.39, 4.85, 4.97, 6.68, 3.12, 8.04, 5.12, 6.35, 6.97, 5.90, 7.93, 4.51, 5.70, 7.10, 6.24, 7.48, 4.32, 6.91, 5.90, 4.82, 5.79, 4.47, 6.59, 6.43, 7.01, 6.95, 3.96, 7.84, 7.89, 4.97, 7.84, 6.08, 5.36, 7.99, 8.44, 6.56, 5.46, 5.61, 6.35, 5.09, 10.27, 7.38, 5.85, 5.58, 6.54, 5.11, 5.38, 6.87, 7.32, 6.98, 2.70, 7.47, 4.83, 5.36, 7.67, 3.63, 6.60, 3.55, 8.27, 5.96, 5.48, 4.99, 5.19, 7.42, 8.86, 5.50, 5.00, 5.13, 6.71, 4.97, 6.55, 5.15, 4.61, 5.54, 7.14, 5.11, 4.32, 3.88, 6.50, 5.21, 5.16, 4.84, 5.10, 7.95, 7.22, 6.95, 5.97, 3.12, 6.65, 10.36, 6.35, 5.74, 5.06, 5.13, 3.24, 6.82, 9.17, 5.45, 5.50, 5.89, 4.42, 5.65, 7.65, 8.00, 4.20, 6.93, 6.49, 6.94, 3.69, 4.87, 6.19, 7.83, 4.56, 7.03, 5.65, 9.10, 6.90, 6.48, 7.16, 6.26, 4.15, 5.29, 8.50, 6.59, 6.32, 5.79, 8.85, 7.96, 8.78, 6.35, 7.37, 4.26, 4.09, 6.62, 4.63, 5.65, 4.37, 6.02, 5.98, 6.27, 3.00, 4.80, 5.62, 7.35, 6.98, 5.85, 4.67, 6.00, 4.67, 6.73, 6.11, 5.47, 7.29, 4.78, 4.79, 5.98, 6.35, 6.03, 6.66, 5.66, 7.95, 7.37, 5.12, 6.68, 5.32, 6.29, 6.41, 5.52, 4.58, 6.03, 5.75, 5.95, 5.41, 5.71, 5.35, 7.55, 6.42, 5.75, 6.41, 4.34, 7.52, 5.10, 7.01, 2.47, 5.96, 6.42, 5.21, 4.35, 3.85, 4.94, 5.06, 6.22, 4.22, 4.39, 7.29, 5.72, 4.57, 4.59, 5.84, 7.41, 4.53, 7.63, 5.06, 5.83, 4.52, 5.12, 4.90, 8.43, 6.46, 5.07, 5.72, 3.59, 8.29, 3.64, 6.75, 4.43, 4.23, 6.01, 7.41, 6.58, 6.08, 5.82, 5.65, 7.99, 5.25, 8.39, 6.14, 6.16, 7.12, 4.46, 5.89, 5.99, 6.69, 7.94, 6.14, 3.95, 6.00, 5.22, 6.44, 4.23, 2.47, 6.56, 7.36, 5.12, 8.28, 8.41, 9.20, 8.36, 5.23, 5.58, 4.02, 7.07, 7.84, 3.96, 3.96, 7.69, 7.48, 7.92, 4.77, 9.15, 5.91, 7.54, 4.34, 6.02, 4.39, 9.31, 5.75, 5.22, 5.38, 4.03, 5.23, 7.27, 5.37, 7.34, 6.54, 7.85, 4.24, 8.83, 7.79, 7.62, 4.72, 5.77, 4.33, 5.10, 5.17, 6.12, 5.95, 8.39, 8.09, 4.98, 6.83, 5.12, 5.01, 5.54, 5.03, 7.91, 7.31, 6.16, 6.21, 6.08, 8.89, 6.20, 6.36, 5.23, 5.60, 4.86, 4.94, 6.78, 7.37, 6.19, 5.60, 6.60, 8.68, 7.59, 4.67, 7.46, 5.87, 7.94, 6.23, 5.52, 4.97, 4.78, 6.51, 7.18, 9.11, 5.11, 6.13, 4.70, 5.52, 5.14, 5.85, 6.21, 4.75, 4.38, 4.68, 7.30, 7.76, 6.63, 5.87, 5.41, 6.76, 6.57, 6.65, 6.85, 5.00, 5.25, 6.97, 4.81, 6.46, 5.35, 7.50, 6.06, 6.52, 5.91, 9.72, 6.68, 9.43, 7.68, 3.95, 3.93, 5.35, 3.54, 5.61, 5.08, 6.41, 6.79, 7.18, 6.34, 7.87, 5.54, 6.36, 6.38, 4.01, 7.17, 6.52, 7.27, 6.54, 4.28, 5.88, 3.76, 6.42, 3.35, 6.42, 3.36, 5.10, 5.22, 5.40, 4.33, 5.68, 5.67, 4.58, 5.70, 6.95, 8.31, 7.49, 4.73, 4.27, 3.93, 5.26, 6.27, 3.96, 8.53, 5.92, 6.34, 4.56, 6.89, 4.99, 6.60, 7.89, 5.63, 7.90, 4.96, 6.62, 7.46, 7.59, 6.17, 9.56, 2.87, 5.22, 3.99, 2.87, 6.17, 7.21, 5.04, 7.13, 5.44, 6.77, 5.78, 5.96, 5.55, 6.46, 7.48, 7.84, 8.70, 5.60, 5.00, 6.82, 5.47, 5.79, 3.91, 5.03, 3.92, 6.48, 3.66, 4.79, 8.08, 5.98, 6.79, 5.65, 3.63, 4.64, 7.00, 5.42, 4.48, 7.70, 7.15, 3.95, 4.85, 6.77, 6.67, 4.56, 5.71, 4.00, 5.77, 6.06, 3.63, 5.98, 6.79, 6.46, 6.12, 4.49, 6.27, 4.99, 5.24, 5.38, 7.11, 6.26, 6.80, 6.72, 2.88, 9.00, 6.04, 5.30, 6.73, 7.38, 7.01, 6.81, 5.28, 5.56, 6.87, 6.53, 6.17, 5.98, 7.22, 6.90, 6.34, 4.09, 5.70, 7.24, 5.62, 4.31, 7.15, 4.26, 5.90, 6.83, 5.78, 6.96, 7.46, 6.67, 8.38, 6.07, 3.77, 5.14, 4.73, 6.55, 3.72, 8.20, 8.55, 6.85, 5.58, 3.76, 5.11, 7.01, 7.13, 6.08, 5.95, 4.80, 4.89, 6.88, 7.25, 6.51, 6.32, 6.76, 7.19, 5.33, 6.66, 6.83, 6.71, 5.38, 5.82, 6.25, 6.27, 6.17, 6.77, 7.19, 6.86, 8.64, 5.51, 4.74, 4.38, 5.40, 3.46, 6.05, 4.46, 4.55, 10.68, 5.41, 5.98, 5.84, 7.71, 7.68, 7.08, 5.43, 8.16, 5.31, 7.58, 5.21, 5.57, 6.34, 6.31, 5.63, 5.70, 7.09, 5.88, 6.56, 7.61, 4.96, 4.85, 4.13, 4.49, 6.10, 9.00, 5.48, 5.44, 6.44, 4.40, 7.28, 6.75, 5.76, 5.70, 6.71, 7.60, 6.81, 7.31, 6.59, 3.04, 5.28, 4.40, 4.28, 6.35, 7.70, 5.64, 6.44, 3.86, 4.36, 5.78, 7.97, 8.36, 6.71, 6.49, 7.95, 6.33, 6.77, 5.30, 7.05, 3.13, 7.33, 4.80, 6.20, 7.63, 8.76, 4.24, 8.36, 6.93, 2.81, 5.04, 8.22, 3.68, 4.28, 5.11, 6.56, 7.88, 5.32, 4.08, 7.15, 6.69, 6.80, 6.08, 4.76, 6.63, 5.39, 6.03, 3.29, 5.10, 6.99, 6.94, 3.86, 5.55, 7.49, 2.42, 4.30, 7.84, 5.80, 6.70, 7.26, 7.21, 3.42, 6.03, 6.06, 7.48, 5.46, 6.29, 7.81, 4.53, 6.72, 7.38, 6.63, 5.58, 4.37, 5.00, 8.13, 6.94, 5.90, 6.47, 4.17, 7.71, 5.47, 7.16, 3.98, 6.69, 1.44, 6.80, 5.75, 6.50, 9.32, 4.39, 7.67, 6.86, 2.70, 5.18, 3.33, 4.95, 8.49, 7.42, 3.52, 6.06, 8.20, 6.10]"
   ]
  },
  {
   "cell_type": "code",
   "execution_count": 50,
   "metadata": {},
   "outputs": [],
   "source": [
    "pd.DataFrame(lista).to_csv(\"teste.csv\",index=False)"
   ]
  },
  {
   "cell_type": "code",
   "execution_count": 51,
   "metadata": {},
   "outputs": [],
   "source": [
    "np.random.seed(51)\n",
    "random.seed(51)\n"
   ]
  },
  {
   "cell_type": "code",
   "execution_count": 52,
   "metadata": {},
   "outputs": [],
   "source": [
    "sample = random.sample(lista,20)"
   ]
  },
  {
   "cell_type": "code",
   "execution_count": 64,
   "metadata": {},
   "outputs": [
    {
     "name": "stdout",
     "output_type": "stream",
     "text": [
      "[249, 99, 383, 20, 251, 8, 84, 406, 9, 474, 531, 185, 406, 517, 350, 37, 137, 18, 66, 126]\n"
     ]
    }
   ],
   "source": [
    "index = [lista.index(x) for x in sample]\n",
    "print(index)"
   ]
  },
  {
   "cell_type": "code",
   "execution_count": 59,
   "metadata": {},
   "outputs": [
    {
     "data": {
      "text/plain": [
       "<Axes: ylabel='Count'>"
      ]
     },
     "execution_count": 59,
     "metadata": {},
     "output_type": "execute_result"
    },
    {
     "data": {
      "image/png": "[encoded data removed]",
      "text/plain": [
       "<Figure size 640x480 with 1 Axes>"
      ]
     },
     "metadata": {},
     "output_type": "display_data"
    }
   ],
   "source": [
    "sns.histplot(sample,kde=True,bins=7)"
   ]
  },
  {
   "cell_type": "code",
   "execution_count": 60,
   "metadata": {},
   "outputs": [
    {
     "data": {
      "text/plain": [
       "'Média: 6.0600000000000005 Mediana: 5.885 Desvio padrão: 0.9523024729569908'"
      ]
     },
     "metadata": {},
     "output_type": "display_data"
    }
   ],
   "source": [
    "display(f\"Média: {np.mean(sample)} Mediana: {np.median(sample)} Desvio padrão: {np.std(sample)}\")"
   ]
  },
  {
   "cell_type": "code",
   "execution_count": 61,
   "metadata": {},
   "outputs": [],
   "source": [
    "w,p_value = scipy.stats.shapiro(sample)"
   ]
  },
  {
   "cell_type": "code",
   "execution_count": 62,
   "metadata": {},
   "outputs": [
    {
     "data": {
      "text/plain": [
       "'W value: 0.9860984700476363 P value: 0.9874576026294896'"
      ]
     },
     "metadata": {},
     "output_type": "display_data"
    }
   ],
   "source": [
    "display(f\"W value: {w} P value: {p_value}\")"
   ]
  }
 ],
 "metadata": {
  "kernelspec": {
   "display_name": "icd",
   "language": "python",
   "name": "python3"
  },
  "language_info": {
   "codemirror_mode": {
    "name": "ipython",
    "version": 3
   },
   "file_extension": ".py",
   "mimetype": "text/x-python",
   "name": "python",
   "nbconvert_exporter": "python",
   "pygments_lexer": "ipython3",
   "version": "3.13.2"
  }
 },
 "nbformat": 4,
 "nbformat_minor": 2
}
