{
 "cells": [
  {
   "cell_type": "code",
   "execution_count": 1,
   "id": "4bc79246",
   "metadata": {},
   "outputs": [],
   "source": [
    "import numpy as np\n",
    "from scipy.stats import shapiro, norm\n",
    "import seaborn as sns\n",
    "import matplotlib.pyplot as plt\n",
    "import math"
   ]
  },
  {
   "cell_type": "code",
   "execution_count": 2,
   "id": "27ea8a1a",
   "metadata": {},
   "outputs": [
    {
     "name": "stdout",
     "output_type": "stream",
     "text": [
      "Media: 83.64238095238096\n"
     ]
    },
    {
     "data": {
      "image/png": "[encoded data removed]",
      "text/plain": [
       "<Figure size 640x480 with 1 Axes>"
      ]
     },
     "metadata": {},
     "output_type": "display_data"
    },
    {
     "data": {
      "image/png": "[encoded data removed]",
      "text/plain": [
       "<Figure size 640x480 with 1 Axes>"
      ]
     },
     "metadata": {},
     "output_type": "display_data"
    },
    {
     "name": "stdout",
     "output_type": "stream",
     "text": [
      "Dados seguem normalidade: 0.9969710933595074\n"
     ]
    }
   ],
   "source": [
    "values = [71.68,74.75,76.56,79.05,79.09,79.83,80.18,80.19,81.63,81.91,83.28,83.57,85.69,86.58,86.62,87.32,88.42,89.72,91.51,92.69,96.22]    \n",
    "mean = np.mean(values)\n",
    "print(f\"Media: {mean}\")\n",
    "sns.histplot(values)\n",
    "plt.show()\n",
    "sns.boxplot(data=values)\n",
    "plt.show()\n",
    "stats, pvalue = shapiro(values)\n",
    "if pvalue>0.05:\n",
    "    print(f\"Dados seguem normalidade: {pvalue}\")\n",
    "else:\n",
    "    print(f\"Dados nao seguem normalidade: {pvalue}\")\n"
   ]
  },
  {
   "cell_type": "code",
   "execution_count": 3,
   "id": "fb6b4821",
   "metadata": {},
   "outputs": [
    {
     "name": "stdout",
     "output_type": "stream",
     "text": [
      "81.01158269409898 86.27317921066295\n"
     ]
    }
   ],
   "source": [
    "quantile = norm.ppf(0.975)\n",
    "var = np.var(values,ddof=1)\n",
    "std = np.std(values,ddof=1)\n",
    "limite_inferior = mean-(quantile*std/math.sqrt(len(values)))\n",
    "limite_superior = mean+(quantile*std/math.sqrt(len(values)))\n",
    "print(f\"{limite_inferior} {limite_superior}\")"
   ]
  },
  {
   "cell_type": "code",
   "execution_count": 4,
   "id": "d8037a0e",
   "metadata": {},
   "outputs": [
    {
     "name": "stdout",
     "output_type": "stream",
     "text": [
      "37.83538904761904\n"
     ]
    }
   ],
   "source": [
    "print(var)"
   ]
  },
  {
   "cell_type": "markdown",
   "id": "97d1f5f3",
   "metadata": {},
   "source": [
    "Questão 8"
   ]
  },
  {
   "cell_type": "code",
   "execution_count": 5,
   "id": "bf99d839",
   "metadata": {},
   "outputs": [
    {
     "name": "stdout",
     "output_type": "stream",
     "text": [
      "Intervalo de confiança para a variância populacional (95%):\n",
      "(np.float64(22.145639050050764), np.float64(78.89952503356808))\n",
      "\n",
      "Intervalo de confiança para o desvio padrão populacional (95%):\n",
      "(np.float64(4.705915325422969), np.float64(8.882540460564652))\n"
     ]
    }
   ],
   "source": [
    "import numpy as np\n",
    "import scipy.stats as stats\n",
    "\n",
    "# Exemplo de values: pressão sanguínea diastólica\n",
    "\n",
    "# Parâmetros básicos\n",
    "n = len(values)\n",
    "s2 = np.var(values, ddof=1)  # variância amostral não viesada\n",
    "alpha = 0.05\n",
    "\n",
    "# Quantis da qui-quadrado\n",
    "chi2_inf = stats.chi2.ppf(1 - alpha / 2, df=n - 1)\n",
    "chi2_sup = stats.chi2.ppf(alpha / 2, df=n - 1)\n",
    "\n",
    "# Intervalo de confiança para a variância\n",
    "ic_inferior = (n - 1) * s2 / chi2_inf\n",
    "ic_superior = (n - 1) * s2 / chi2_sup\n",
    "intervalo_variancia = (ic_inferior, ic_superior)\n",
    "\n",
    "print(\"Intervalo de confiança para a variância populacional (95%):\")\n",
    "print(intervalo_variancia)\n",
    "\n",
    "# Se quiser o intervalo para o desvio padrão:\n",
    "intervalo_dp = (np.sqrt(ic_inferior), np.sqrt(ic_superior))\n",
    "print(\"\\nIntervalo de confiança para o desvio padrão populacional (95%):\")\n",
    "print(intervalo_dp)\n"
   ]
  },
  {
   "cell_type": "code",
   "execution_count": null,
   "id": "1533b08e",
   "metadata": {},
   "outputs": [],
   "source": []
  }
 ],
 "metadata": {
  "kernelspec": {
   "display_name": "icd",
   "language": "python",
   "name": "python3"
  },
  "language_info": {
   "codemirror_mode": {
    "name": "ipython",
    "version": 3
   },
   "file_extension": ".py",
   "mimetype": "text/x-python",
   "name": "python",
   "nbconvert_exporter": "python",
   "pygments_lexer": "ipython3",
   "version": "3.13.4"
  }
 },
 "nbformat": 4,
 "nbformat_minor": 5
}
