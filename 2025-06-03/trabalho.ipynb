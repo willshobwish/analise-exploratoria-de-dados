{
 "cells": [
  {
   "cell_type": "code",
   "execution_count": null,
   "id": "273be8f1",
   "metadata": {},
   "outputs": [],
   "source": []
  },
  {
   "cell_type": "code",
   "execution_count": 21,
   "id": "4133ccff",
   "metadata": {},
   "outputs": [],
   "source": [
    "dados = [71.68,74.75,76.56,79.05,79.09,79.83,80.18,80.19,81.63,81.91,83.28,83.57,85.69,86.58,86.62,87.32,88.42,89.72,91.51,92.69,96.22]    "
   ]
  },
  {
   "cell_type": "markdown",
   "id": "b6ead1bf",
   "metadata": {},
   "source": [
    "Questão 12-4"
   ]
  },
  {
   "cell_type": "code",
   "execution_count": 22,
   "id": "3fe13e23",
   "metadata": {},
   "outputs": [
    {
     "name": "stdout",
     "output_type": "stream",
     "text": [
      "Intervalo de confiança (95%) para a média populacional: (80.84, 86.44)\n"
     ]
    }
   ],
   "source": [
    "import numpy as np\n",
    "import scipy.stats as stats\n",
    "\n",
    "# Estatísticas básicas\n",
    "n = len(dados)\n",
    "media = np.mean(dados)\n",
    "desvio_padrao = np.std(dados, ddof=1)  # ddof=1 para amostra\n",
    "\n",
    "# Nível de significância\n",
    "alpha = 0.05\n",
    "t_critico = stats.t.ppf(1 - alpha/2, df=n-1)\n",
    "\n",
    "# Margem de erro\n",
    "erro = t_critico * (desvio_padrao / np.sqrt(n))\n",
    "\n",
    "# Intervalo de confiança\n",
    "IC_inferior = media - erro\n",
    "IC_superior = media + erro\n",
    "\n",
    "print(f\"Intervalo de confiança (95%) para a média populacional: ({IC_inferior:.2f}, {IC_superior:.2f})\")\n"
   ]
  },
  {
   "cell_type": "markdown",
   "id": "2e0e84be",
   "metadata": {},
   "source": [
    "Questão 14-5"
   ]
  },
  {
   "cell_type": "code",
   "execution_count": 23,
   "id": "33db0775",
   "metadata": {},
   "outputs": [
    {
     "name": "stdout",
     "output_type": "stream",
     "text": [
      "Intervalo de confiança (95%) para a média populacional: (80.84245756236282, 86.4423043423991)\n"
     ]
    }
   ],
   "source": [
    "import numpy as np\n",
    "import scipy.stats as stats\n",
    "\n",
    "# Estatísticas básicas\n",
    "n = len(dados)\n",
    "media = np.mean(dados)\n",
    "desvio_padrao = np.std(dados, ddof=1)  # ddof=1 para amostra\n",
    "\n",
    "# Nível de significância\n",
    "alpha = 0.05\n",
    "t_critico = stats.t.ppf(1 - alpha/2, df=n-1)\n",
    "\n",
    "# Margem de erro\n",
    "erro = t_critico * (desvio_padrao / np.sqrt(n))\n",
    "\n",
    "# Intervalo de confiança\n",
    "IC_inferior = media - erro\n",
    "IC_superior = media + erro\n",
    "\n",
    "print(f\"Intervalo de confiança (95%) para a média populacional: ({IC_inferior}, {IC_superior})\")\n"
   ]
  },
  {
   "cell_type": "markdown",
   "id": "348a4e10",
   "metadata": {},
   "source": [
    "Questão 14-6"
   ]
  },
  {
   "cell_type": "code",
   "execution_count": 24,
   "id": "2f04adaa",
   "metadata": {},
   "outputs": [
    {
     "name": "stdout",
     "output_type": "stream",
     "text": [
      "t = 4.508660159845623\n",
      "df = 40\n",
      "p-valor = 0.00006\n",
      "→ Rejeita H₀: Diferença significativa.\n"
     ]
    }
   ],
   "source": [
    "import scipy.stats as stats\n",
    "import numpy as np\n",
    "\n",
    "# Estatísticas da amostra 1 (diabéticas) - você tem os dados\n",
    "x1_bar = np.mean(dados)\n",
    "s1 = np.std(dados,ddof=1)            # desvio padrão\n",
    "n1 = len(dados)              # tamanho da amostra\n",
    "\n",
    "# Estatísticas da amostra 2 (normais) - apenas média e desvio\n",
    "x2_bar = 74.4        # média\n",
    "s2 = 7.1            # desvio padrão\n",
    "n2 = 21              # tamanho da amostra\n",
    "\n",
    "# Variância combinada (pooled variance)\n",
    "sp_squared = ((n1 - 1)*s1**2 + (n2 - 1)*s2**2) / (n1 + n2 - 2)\n",
    "\n",
    "# Estatística t\n",
    "t_stat = (x1_bar - x2_bar) / np.sqrt(sp_squared * (1/n1 + 1/n2))\n",
    "\n",
    "# Graus de liberdade\n",
    "df = n1 + n2 - 2\n",
    "\n",
    "# p-valor bicaudal\n",
    "p_val = 2 * stats.t.sf(np.abs(t_stat), df)\n",
    "\n",
    "print(f\"t = {t_stat}\")\n",
    "print(f\"df = {df}\")\n",
    "print(f\"p-valor = {p_val:.5f}\")\n",
    "\n",
    "alpha = 0.05\n",
    "if p_val < alpha:\n",
    "    print(\"→ Rejeita H₀: Diferença significativa.\")\n",
    "else:\n",
    "    print(\"→ Não rejeita H₀: Diferença não significativa.\")"
   ]
  },
  {
   "cell_type": "markdown",
   "id": "51fb2e9a",
   "metadata": {},
   "source": [
    "Questão 14-7"
   ]
  },
  {
   "cell_type": "code",
   "execution_count": 25,
   "id": "ebbc74d8",
   "metadata": {},
   "outputs": [
    {
     "name": "stdout",
     "output_type": "stream",
     "text": [
      "37.83538904761904\n"
     ]
    }
   ],
   "source": [
    "print(np.var(dados,ddof=1))"
   ]
  },
  {
   "cell_type": "markdown",
   "id": "8b3ecde3",
   "metadata": {},
   "source": [
    "Questão 14-8"
   ]
  },
  {
   "cell_type": "code",
   "execution_count": 26,
   "id": "9d39533d",
   "metadata": {},
   "outputs": [
    {
     "name": "stdout",
     "output_type": "stream",
     "text": [
      "Intervalo de confiança de 95% para a variância: (22.14564, 78.89953)\n"
     ]
    }
   ],
   "source": [
    "import numpy as np\n",
    "from scipy.stats import chi2\n",
    "\n",
    "# Suponha seus dados amostrais\n",
    "# dados = [...]  # vetor dos níveis de pressão diastólica\n",
    "n = len(dados)\n",
    "S2 = np.var(dados, ddof=1)\n",
    "alpha = 0.05\n",
    "\n",
    "# Graus de liberdade\n",
    "df = n - 1\n",
    "\n",
    "# Quantis da distribuição qui-quadrado\n",
    "chi2_lower = chi2.ppf(alpha / 2, df)\n",
    "chi2_upper = chi2.ppf(1 - alpha / 2, df)\n",
    "\n",
    "# Intervalo de confiança para variância\n",
    "IC_lower = (df * S2) / chi2_upper\n",
    "IC_upper = (df * S2) / chi2_lower\n",
    "\n",
    "print(f\"Intervalo de confiança de 95% para a variância: ({round(IC_lower,5)}, {round(IC_upper,5)})\")\n"
   ]
  },
  {
   "cell_type": "code",
   "execution_count": 27,
   "id": "97589d73",
   "metadata": {},
   "outputs": [],
   "source": [
    "dados = [11.09, 12.93, 13.12, 13.31, 13.67, 13.98, 14.01, 14.11, 14.30, 14.41, 14.46, 14.57, 14.63, 14.89, 14.92, 15.03, 15.07, 15.20, 15.21, 15.22, 15.28, 15.47, 15.66, 15.70, 15.78, 15.89, 16.02, 16.35, 17.50, 17.54, 17.59, 17.70, 17.71, 17.72, 17.77, 17.90, 17.93, 18.06, 18.13, 19.64, 19.80, 19.88, 19.90, 19.96, 20.77, 21.38]"
   ]
  },
  {
   "cell_type": "code",
   "execution_count": null,
   "id": "17d79bc7",
   "metadata": {},
   "outputs": [
    {
     "data": {
      "image/png": "[encoded data removed]",
      "text/plain": [
       "<Figure size 640x480 with 1 Axes>"
      ]
     },
     "metadata": {},
     "output_type": "display_data"
    },
    {
     "data": {
      "image/png": "[encoded data removed]",
      "text/plain": [
       "<Figure size 640x480 with 1 Axes>"
      ]
     },
     "metadata": {},
     "output_type": "display_data"
    },
    {
     "name": "stdout",
     "output_type": "stream",
     "text": [
      "ShapiroResult(statistic=np.float64(0.9615621289677386), pvalue=np.float64(0.13185577534042586))\n",
      "Média: 16.242608695652173\n",
      "Desvio padrão: 2.3232041425416545\n",
      "Variância: 5.397277487922705\n"
     ]
    }
   ],
   "source": [
    "import seaborn as sns\n",
    "import matplotlib.pyplot as plt\n",
    "from scipy.stats import shapiro\n",
    "sns.histplot(dados)\n",
    "plt.yticks(np.linspace(0,15,16,dtype=int))\n",
    "plt.grid()\n",
    "plt.show()\n",
    "sns.boxplot(dados)\n",
    "plt.grid()\n",
    "plt.show()\n",
    "\n",
    "print(shapiro(dados))\n",
    "print(\"Média:\",np.mean(dados))\n",
    "print(\"Desvio padrão:\",np.std(dados,ddof=1))\n",
    "print(\"Variância:\",np.var(dados,ddof=1))"
   ]
  },
  {
   "cell_type": "code",
   "execution_count": null,
   "id": "c0950ffe",
   "metadata": {},
   "outputs": [
    {
     "name": "stdout",
     "output_type": "stream",
     "text": [
      "IC 95% para a média: (15.55, 16.93)\n"
     ]
    }
   ],
   "source": [
    "import numpy as np\n",
    "from scipy.stats import t\n",
    "\n",
    "n = len(dados)\n",
    "media = np.mean(dados)\n",
    "desvio = np.std(dados, ddof=1)\n",
    "alpha = 0.05\n",
    "t_critico = t.ppf(1 - alpha/2, df=n-1)\n",
    "\n",
    "# Intervalo de confiança para a média com base no TCL\n",
    "erro_padrao = desvio / np.sqrt(n)\n",
    "limite_inferior = media - t_critico * erro_padrao\n",
    "limite_superior = media + t_critico * erro_padrao\n",
    "\n",
    "print(f\"IC 95% para a média: ({limite_inferior:.2f}, {limite_superior:.2f})\")"
   ]
  },
  {
   "cell_type": "code",
   "execution_count": 51,
   "id": "5ef7f835",
   "metadata": {},
   "outputs": [
    {
     "data": {
      "text/plain": [
       "np.float64(16.242608695652173)"
      ]
     },
     "execution_count": 51,
     "metadata": {},
     "output_type": "execute_result"
    }
   ],
   "source": [
    "media"
   ]
  }
 ],
 "metadata": {
  "kernelspec": {
   "display_name": "icd",
   "language": "python",
   "name": "python3"
  },
  "language_info": {
   "codemirror_mode": {
    "name": "ipython",
    "version": 3
   },
   "file_extension": ".py",
   "mimetype": "text/x-python",
   "name": "python",
   "nbconvert_exporter": "python",
   "pygments_lexer": "ipython3",
   "version": "3.13.4"
  }
 },
 "nbformat": 4,
 "nbformat_minor": 5
}
